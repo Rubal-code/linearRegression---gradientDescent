{
 "cells": [
  {
   "cell_type": "code",
   "execution_count": 56,
   "id": "0851e55b",
   "metadata": {},
   "outputs": [],
   "source": [
    "import pandas as pd\n",
    "import numpy as np\n",
    "from sklearn.datasets import load_diabetes\n",
    "from sklearn.preprocessing import StandardScaler\n",
    "from sklearn.model_selection import train_test_split\n",
    "from sklearn.linear_model import LinearRegression,Ridge,Lasso\n",
    "from sklearn.metrics import r2_score\n"
   ]
  },
  {
   "cell_type": "code",
   "execution_count": 57,
   "id": "f539dd51",
   "metadata": {},
   "outputs": [],
   "source": [
    "X,y=load_diabetes(return_X_y=True)"
   ]
  },
  {
   "cell_type": "code",
   "execution_count": null,
   "id": "b0143b94",
   "metadata": {},
   "outputs": [],
   "source": []
  },
  {
   "cell_type": "code",
   "execution_count": 58,
   "id": "1efb0881",
   "metadata": {},
   "outputs": [],
   "source": [
    "x_train,x_test,y_train,y_test=train_test_split(X,y,test_size=0.2,random_state=42)"
   ]
  },
  {
   "cell_type": "code",
   "execution_count": 59,
   "id": "a2db1e09",
   "metadata": {},
   "outputs": [
    {
     "data": {
      "text/plain": [
       "array([[ 0.07076875,  0.05068012,  0.01211685, ...,  0.03430886,\n",
       "         0.02736405, -0.0010777 ],\n",
       "       [-0.00914709,  0.05068012, -0.01806189, ...,  0.07120998,\n",
       "         0.00027248,  0.01963284],\n",
       "       [ 0.00538306, -0.04464164,  0.04984027, ..., -0.00259226,\n",
       "         0.01703607, -0.01350402],\n",
       "       ...,\n",
       "       [ 0.03081083, -0.04464164, -0.02021751, ..., -0.03949338,\n",
       "        -0.01090325, -0.0010777 ],\n",
       "       [-0.01277963, -0.04464164, -0.02345095, ..., -0.00259226,\n",
       "        -0.03845972, -0.03835666],\n",
       "       [-0.09269548, -0.04464164,  0.02828403, ..., -0.03949338,\n",
       "        -0.00514219, -0.0010777 ]])"
      ]
     },
     "execution_count": 59,
     "metadata": {},
     "output_type": "execute_result"
    }
   ],
   "source": [
    "x_train # scaling pehla hi hoyi payi aa so we dont need to do again"
   ]
  },
  {
   "cell_type": "code",
   "execution_count": 60,
   "id": "537faa60",
   "metadata": {},
   "outputs": [
    {
     "data": {
      "text/plain": [
       "0.4526027629719196"
      ]
     },
     "execution_count": 60,
     "metadata": {},
     "output_type": "execute_result"
    }
   ],
   "source": [
    "# first of all lets go with simple model\n",
    "lr=LinearRegression()\n",
    "lr.fit(x_train,y_train)\n",
    "y_pred=lr.predict(x_test)\n",
    "r2_score(y_test,y_pred)"
   ]
  },
  {
   "cell_type": "code",
   "execution_count": 61,
   "id": "366cf4da",
   "metadata": {},
   "outputs": [
    {
     "data": {
      "text/plain": [
       "(array([  37.90402135, -241.96436231,  542.42875852,  347.70384391,\n",
       "        -931.48884588,  518.06227698,  163.41998299,  275.31790158,\n",
       "         736.1988589 ,   48.67065743]),\n",
       " np.float64(151.34560453985995))"
      ]
     },
     "execution_count": 61,
     "metadata": {},
     "output_type": "execute_result"
    }
   ],
   "source": [
    "lr.coef_,lr.intercept_"
   ]
  },
  {
   "cell_type": "code",
   "execution_count": 62,
   "id": "1d2f616f",
   "metadata": {},
   "outputs": [
    {
     "data": {
      "text/plain": [
       "0.41915292635986545"
      ]
     },
     "execution_count": 62,
     "metadata": {},
     "output_type": "execute_result"
    }
   ],
   "source": [
    "# go for more models for regularization which reduce overfitting\n",
    "rd=Ridge(alpha=1.0) # alpha is 1 for ridge because its weak so in order to have an impact of this we have to keep the alpha=1\n",
    "rd.fit(x_train,y_train)\n",
    "y_pred=rd.predict(x_test)\n",
    "r2_score(y_test,y_pred)"
   ]
  },
  {
   "cell_type": "code",
   "execution_count": 63,
   "id": "c25e62e7",
   "metadata": {},
   "outputs": [
    {
     "data": {
      "text/plain": [
       "0.4718547867276227"
      ]
     },
     "execution_count": 63,
     "metadata": {},
     "output_type": "execute_result"
    }
   ],
   "source": [
    "ls=Lasso(alpha=0.1) # alpha is 0.1 for lasso because its aggresive\n",
    "ls.fit(x_train,y_train)\n",
    "y_pred=ls.predict(x_test)\n",
    "r2_score(y_test,y_pred)"
   ]
  },
  {
   "cell_type": "code",
   "execution_count": 64,
   "id": "810764eb",
   "metadata": {},
   "outputs": [],
   "source": [
    "import random\n",
    "class mbgdregressor:\n",
    "    def __init__(self,batch_size=50,learning_rate=0.1,epochs=100):\n",
    "        self.coef_=None\n",
    "        self.intercept_=None\n",
    "        self.learning_rate=learning_rate\n",
    "        self.epochs=epochs\n",
    "        self.batch_size=batch_size\n",
    "    \n",
    "    def fit(self,x_train,y_train):\n",
    "        # initiate your coef and intercept\n",
    "        self.coef_=np.ones(x_train.shape[1])\n",
    "        self.intercept_=0\n",
    "        # update coef and intercept\n",
    "        for i in range(self.epochs):\n",
    "            for j in range(int(x_train.shape[0] / self.batch_size)):\n",
    "                idx=random.sample(range(1,x_train.shape[0]),self.batch_size)\n",
    "                y_hat=np.dot(x_train[idx],self.coef_)+self.intercept_\n",
    "                intercept_der= -2 * np.mean(y_train[idx] - y_hat)\n",
    "                self.intercept_=self.intercept_-(self.learning_rate*intercept_der)\n",
    "\n",
    "                coef_der=-2 * np.dot((y_train[idx] - y_hat),x_train[idx])\n",
    "                self.coef_=self.coef_ - (self.learning_rate * coef_der)\n",
    "        print(self.intercept_,self.coef_)\n",
    "    def predict(self,x_test):\n",
    "        return np.dot(x_test,self.coef_)+self.intercept_"
   ]
  },
  {
   "cell_type": "code",
   "execution_count": 65,
   "id": "97706afe",
   "metadata": {},
   "outputs": [
    {
     "data": {
      "text/plain": [
       "[13, 70, 26, 79, 41, 51, 86, 32, 48, 56]"
      ]
     },
     "execution_count": 65,
     "metadata": {},
     "output_type": "execute_result"
    }
   ],
   "source": [
    "# just to show working \n",
    "import random\n",
    "random.sample(range(1,100),10)   # from 1 to 100 we need 10 random numbers"
   ]
  },
  {
   "cell_type": "code",
   "execution_count": 66,
   "id": "7257b285",
   "metadata": {},
   "outputs": [
    {
     "name": "stdout",
     "output_type": "stream",
     "text": [
      "155.19297431593395 [  75.30344155 -217.96197953  542.01289975  361.94394003 -170.31124215\n",
      "  -32.53258299 -185.32233405  170.3759895   435.14467566   66.66469117]\n"
     ]
    },
    {
     "data": {
      "text/plain": [
       "0.4718547867276227"
      ]
     },
     "execution_count": 66,
     "metadata": {},
     "output_type": "execute_result"
    }
   ],
   "source": [
    "gd=mbgdregressor()\n",
    "gd.fit(x_train,y_train)\n",
    "y_pred_1=gd.predict(x_test)\n",
    "r2_score(y_test,y_pred)\n"
   ]
  },
  {
   "cell_type": "markdown",
   "id": "35680dcf",
   "metadata": {},
   "source": [
    "**sklearn does not have the direct class of mini batch gd so we have to apply some with the clever trick**"
   ]
  },
  {
   "cell_type": "code",
   "execution_count": 67,
   "id": "e4973494",
   "metadata": {},
   "outputs": [],
   "source": [
    "from sklearn.linear_model import SGDRegressor"
   ]
  },
  {
   "cell_type": "code",
   "execution_count": 68,
   "id": "dd49a30c",
   "metadata": {},
   "outputs": [],
   "source": [
    "sgd=SGDRegressor(learning_rate='constant',eta0=0.1)"
   ]
  },
  {
   "cell_type": "code",
   "execution_count": 69,
   "id": "638dec74",
   "metadata": {},
   "outputs": [],
   "source": [
    "batch_size=35\n",
    "for i in range(100):\n",
    "    idx=random.sample(range(0,x_train.shape[0]),batch_size)\n",
    "    sgd.partial_fit(x_train[idx],y_train[idx]) # only 35 rows are passed "
   ]
  },
  {
   "cell_type": "code",
   "execution_count": 70,
   "id": "f1024e9a",
   "metadata": {},
   "outputs": [
    {
     "data": {
      "text/plain": [
       "(array([  56.26623516,  -95.60582195,  366.82817717,  234.27542786,\n",
       "          -3.08888928,  -41.22565732, -179.17392505,  150.19483326,\n",
       "         277.04623001,  153.31277654]),\n",
       " array([168.0932263]))"
      ]
     },
     "execution_count": 70,
     "metadata": {},
     "output_type": "execute_result"
    }
   ],
   "source": [
    "sgd.coef_,sgd.intercept_"
   ]
  },
  {
   "cell_type": "code",
   "execution_count": 72,
   "id": "859e6c69",
   "metadata": {},
   "outputs": [],
   "source": [
    "y_pred_2=sgd.predict(x_test)"
   ]
  },
  {
   "cell_type": "code",
   "execution_count": 73,
   "id": "3c998935",
   "metadata": {},
   "outputs": [
    {
     "data": {
      "text/plain": [
       "0.4050805922595242"
      ]
     },
     "execution_count": 73,
     "metadata": {},
     "output_type": "execute_result"
    }
   ],
   "source": [
    "r2_score(y_test,y_pred_2)"
   ]
  },
  {
   "cell_type": "code",
   "execution_count": null,
   "id": "5ed40258",
   "metadata": {},
   "outputs": [],
   "source": []
  }
 ],
 "metadata": {
  "kernelspec": {
   "display_name": "base",
   "language": "python",
   "name": "python3"
  },
  "language_info": {
   "codemirror_mode": {
    "name": "ipython",
    "version": 3
   },
   "file_extension": ".py",
   "mimetype": "text/x-python",
   "name": "python",
   "nbconvert_exporter": "python",
   "pygments_lexer": "ipython3",
   "version": "3.13.5"
  }
 },
 "nbformat": 4,
 "nbformat_minor": 5
}
