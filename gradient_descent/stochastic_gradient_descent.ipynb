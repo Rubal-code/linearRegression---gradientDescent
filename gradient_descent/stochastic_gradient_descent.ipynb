{
 "cells": [
  {
   "cell_type": "markdown",
   "id": "d209c5df",
   "metadata": {},
   "source": [
    "**stochastic is better then batch gradient descent as there we need less epochs for the answer and not all data we passed in RAM for calculation like in batch we did y_hat**"
   ]
  },
  {
   "cell_type": "code",
   "execution_count": null,
   "id": "1530683f",
   "metadata": {},
   "outputs": [],
   "source": [
    "imp"
   ]
  }
 ],
 "metadata": {
  "kernelspec": {
   "display_name": "base",
   "language": "python",
   "name": "python3"
  },
  "language_info": {
   "name": "python",
   "version": "3.13.5"
  }
 },
 "nbformat": 4,
 "nbformat_minor": 5
}
